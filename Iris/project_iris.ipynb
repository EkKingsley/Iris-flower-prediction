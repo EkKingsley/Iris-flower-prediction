{
 "cells": [
  {
   "cell_type": "markdown",
   "metadata": {},
   "source": [
    "# Predicting the class of flower based on available attributes"
   ]
  },
  {
   "cell_type": "code",
   "execution_count": 1,
   "metadata": {},
   "outputs": [],
   "source": [
    "#import libraries\n",
    "from sklearn.datasets import load_iris\n",
    "import numpy as np"
   ]
  },
  {
   "cell_type": "code",
   "execution_count": 2,
   "metadata": {},
   "outputs": [
    {
     "name": "stdout",
     "output_type": "stream",
     "text": [
      "target name: ['setosa' 'versicolor' 'virginica']\n",
      "target name: ['sepal length (cm)', 'sepal width (cm)', 'petal length (cm)', 'petal width (cm)']\n",
      "target name: <class 'numpy.ndarray'>\n"
     ]
    }
   ],
   "source": [
    "#info about iris dataset\n",
    "iris_dataset = load_iris()\n",
    "print(\"target name: {}\".format(iris_dataset['target_names']))\n",
    "print(\"target name: {}\".format(iris_dataset['feature_names']))\n",
    "print(\"target name: {}\".format(type(iris_dataset['data'])))"
   ]
  },
  {
   "cell_type": "code",
   "execution_count": 3,
   "metadata": {},
   "outputs": [
    {
     "name": "stdout",
     "output_type": "stream",
     "text": [
      "shape of iris dataset: (150, 4)\n"
     ]
    }
   ],
   "source": [
    "#shape of data\n",
    "print(\"shape of iris dataset: {}\".format(iris_dataset['data'].shape))"
   ]
  },
  {
   "cell_type": "code",
   "execution_count": 4,
   "metadata": {},
   "outputs": [
    {
     "name": "stdout",
     "output_type": "stream",
     "text": [
      "Target: [0 0 0 0 0 0 0 0 0 0 0 0 0 0 0 0 0 0 0 0 0 0 0 0 0 0 0 0 0 0 0 0 0 0 0 0 0\n",
      " 0 0 0 0 0 0 0 0 0 0 0 0 0 1 1 1 1 1 1 1 1 1 1 1 1 1 1 1 1 1 1 1 1 1 1 1 1\n",
      " 1 1 1 1 1 1 1 1 1 1 1 1 1 1 1 1 1 1 1 1 1 1 1 1 1 1 2 2 2 2 2 2 2 2 2 2 2\n",
      " 2 2 2 2 2 2 2 2 2 2 2 2 2 2 2 2 2 2 2 2 2 2 2 2 2 2 2 2 2 2 2 2 2 2 2 2 2\n",
      " 2 2]\n"
     ]
    }
   ],
   "source": [
    "print(\"Target: {}\".format(iris_dataset['target']))"
   ]
  },
  {
   "cell_type": "code",
   "execution_count": 7,
   "metadata": {},
   "outputs": [
    {
     "data": {
      "text/html": [
       "<div>\n",
       "<style scoped>\n",
       "    .dataframe tbody tr th:only-of-type {\n",
       "        vertical-align: middle;\n",
       "    }\n",
       "\n",
       "    .dataframe tbody tr th {\n",
       "        vertical-align: top;\n",
       "    }\n",
       "\n",
       "    .dataframe thead th {\n",
       "        text-align: right;\n",
       "    }\n",
       "</style>\n",
       "<table border=\"1\" class=\"dataframe\">\n",
       "  <thead>\n",
       "    <tr style=\"text-align: right;\">\n",
       "      <th></th>\n",
       "      <th>sepal length (cm)</th>\n",
       "      <th>sepal width (cm)</th>\n",
       "      <th>petal length (cm)</th>\n",
       "      <th>petal width (cm)</th>\n",
       "    </tr>\n",
       "  </thead>\n",
       "  <tbody>\n",
       "    <tr>\n",
       "      <th>0</th>\n",
       "      <td>5.1</td>\n",
       "      <td>3.5</td>\n",
       "      <td>1.4</td>\n",
       "      <td>0.2</td>\n",
       "    </tr>\n",
       "    <tr>\n",
       "      <th>1</th>\n",
       "      <td>4.9</td>\n",
       "      <td>3.0</td>\n",
       "      <td>1.4</td>\n",
       "      <td>0.2</td>\n",
       "    </tr>\n",
       "    <tr>\n",
       "      <th>2</th>\n",
       "      <td>4.7</td>\n",
       "      <td>3.2</td>\n",
       "      <td>1.3</td>\n",
       "      <td>0.2</td>\n",
       "    </tr>\n",
       "    <tr>\n",
       "      <th>3</th>\n",
       "      <td>4.6</td>\n",
       "      <td>3.1</td>\n",
       "      <td>1.5</td>\n",
       "      <td>0.2</td>\n",
       "    </tr>\n",
       "    <tr>\n",
       "      <th>4</th>\n",
       "      <td>5.0</td>\n",
       "      <td>3.6</td>\n",
       "      <td>1.4</td>\n",
       "      <td>0.2</td>\n",
       "    </tr>\n",
       "  </tbody>\n",
       "</table>\n",
       "</div>"
      ],
      "text/plain": [
       "   sepal length (cm)  sepal width (cm)  petal length (cm)  petal width (cm)\n",
       "0                5.1               3.5                1.4               0.2\n",
       "1                4.9               3.0                1.4               0.2\n",
       "2                4.7               3.2                1.3               0.2\n",
       "3                4.6               3.1                1.5               0.2\n",
       "4                5.0               3.6                1.4               0.2"
      ]
     },
     "execution_count": 7,
     "metadata": {},
     "output_type": "execute_result"
    }
   ],
   "source": [
    "#resaving dataset as pandas dataframe\n",
    "import pandas as pd\n",
    "df = pd.DataFrame(iris_dataset['data'], columns=iris_dataset['feature_names'])\n",
    "df.head(5)"
   ]
  },
  {
   "cell_type": "code",
   "execution_count": null,
   "metadata": {},
   "outputs": [],
   "source": []
  },
  {
   "cell_type": "code",
   "execution_count": 8,
   "metadata": {},
   "outputs": [],
   "source": [
    "#adding the target class\n",
    "df['class'] = iris_dataset['target']"
   ]
  },
  {
   "cell_type": "code",
   "execution_count": 9,
   "metadata": {},
   "outputs": [
    {
     "data": {
      "text/html": [
       "<div>\n",
       "<style scoped>\n",
       "    .dataframe tbody tr th:only-of-type {\n",
       "        vertical-align: middle;\n",
       "    }\n",
       "\n",
       "    .dataframe tbody tr th {\n",
       "        vertical-align: top;\n",
       "    }\n",
       "\n",
       "    .dataframe thead th {\n",
       "        text-align: right;\n",
       "    }\n",
       "</style>\n",
       "<table border=\"1\" class=\"dataframe\">\n",
       "  <thead>\n",
       "    <tr style=\"text-align: right;\">\n",
       "      <th></th>\n",
       "      <th>sepal length (cm)</th>\n",
       "      <th>sepal width (cm)</th>\n",
       "      <th>petal length (cm)</th>\n",
       "      <th>petal width (cm)</th>\n",
       "      <th>class</th>\n",
       "    </tr>\n",
       "  </thead>\n",
       "  <tbody>\n",
       "    <tr>\n",
       "      <th>0</th>\n",
       "      <td>5.1</td>\n",
       "      <td>3.5</td>\n",
       "      <td>1.4</td>\n",
       "      <td>0.2</td>\n",
       "      <td>0</td>\n",
       "    </tr>\n",
       "    <tr>\n",
       "      <th>1</th>\n",
       "      <td>4.9</td>\n",
       "      <td>3.0</td>\n",
       "      <td>1.4</td>\n",
       "      <td>0.2</td>\n",
       "      <td>0</td>\n",
       "    </tr>\n",
       "    <tr>\n",
       "      <th>2</th>\n",
       "      <td>4.7</td>\n",
       "      <td>3.2</td>\n",
       "      <td>1.3</td>\n",
       "      <td>0.2</td>\n",
       "      <td>0</td>\n",
       "    </tr>\n",
       "    <tr>\n",
       "      <th>3</th>\n",
       "      <td>4.6</td>\n",
       "      <td>3.1</td>\n",
       "      <td>1.5</td>\n",
       "      <td>0.2</td>\n",
       "      <td>0</td>\n",
       "    </tr>\n",
       "    <tr>\n",
       "      <th>4</th>\n",
       "      <td>5.0</td>\n",
       "      <td>3.6</td>\n",
       "      <td>1.4</td>\n",
       "      <td>0.2</td>\n",
       "      <td>0</td>\n",
       "    </tr>\n",
       "  </tbody>\n",
       "</table>\n",
       "</div>"
      ],
      "text/plain": [
       "   sepal length (cm)  sepal width (cm)  petal length (cm)  petal width (cm)  \\\n",
       "0                5.1               3.5                1.4               0.2   \n",
       "1                4.9               3.0                1.4               0.2   \n",
       "2                4.7               3.2                1.3               0.2   \n",
       "3                4.6               3.1                1.5               0.2   \n",
       "4                5.0               3.6                1.4               0.2   \n",
       "\n",
       "   class  \n",
       "0      0  \n",
       "1      0  \n",
       "2      0  \n",
       "3      0  \n",
       "4      0  "
      ]
     },
     "execution_count": 9,
     "metadata": {},
     "output_type": "execute_result"
    }
   ],
   "source": [
    "df.head(5)"
   ]
  },
  {
   "cell_type": "code",
   "execution_count": 10,
   "metadata": {},
   "outputs": [
    {
     "data": {
      "text/html": [
       "<div>\n",
       "<style scoped>\n",
       "    .dataframe tbody tr th:only-of-type {\n",
       "        vertical-align: middle;\n",
       "    }\n",
       "\n",
       "    .dataframe tbody tr th {\n",
       "        vertical-align: top;\n",
       "    }\n",
       "\n",
       "    .dataframe thead th {\n",
       "        text-align: right;\n",
       "    }\n",
       "</style>\n",
       "<table border=\"1\" class=\"dataframe\">\n",
       "  <thead>\n",
       "    <tr style=\"text-align: right;\">\n",
       "      <th></th>\n",
       "      <th>sepal length (cm)</th>\n",
       "      <th>sepal width (cm)</th>\n",
       "      <th>petal length (cm)</th>\n",
       "      <th>petal width (cm)</th>\n",
       "      <th>class</th>\n",
       "    </tr>\n",
       "  </thead>\n",
       "  <tbody>\n",
       "    <tr>\n",
       "      <th>0</th>\n",
       "      <td>7.4</td>\n",
       "      <td>2.8</td>\n",
       "      <td>6.1</td>\n",
       "      <td>1.9</td>\n",
       "      <td>2</td>\n",
       "    </tr>\n",
       "    <tr>\n",
       "      <th>1</th>\n",
       "      <td>4.7</td>\n",
       "      <td>3.2</td>\n",
       "      <td>1.3</td>\n",
       "      <td>0.2</td>\n",
       "      <td>0</td>\n",
       "    </tr>\n",
       "    <tr>\n",
       "      <th>2</th>\n",
       "      <td>6.7</td>\n",
       "      <td>3.3</td>\n",
       "      <td>5.7</td>\n",
       "      <td>2.1</td>\n",
       "      <td>2</td>\n",
       "    </tr>\n",
       "    <tr>\n",
       "      <th>3</th>\n",
       "      <td>6.7</td>\n",
       "      <td>3.1</td>\n",
       "      <td>5.6</td>\n",
       "      <td>2.4</td>\n",
       "      <td>2</td>\n",
       "    </tr>\n",
       "    <tr>\n",
       "      <th>4</th>\n",
       "      <td>6.5</td>\n",
       "      <td>3.0</td>\n",
       "      <td>5.2</td>\n",
       "      <td>2.0</td>\n",
       "      <td>2</td>\n",
       "    </tr>\n",
       "    <tr>\n",
       "      <th>5</th>\n",
       "      <td>6.3</td>\n",
       "      <td>2.5</td>\n",
       "      <td>5.0</td>\n",
       "      <td>1.9</td>\n",
       "      <td>2</td>\n",
       "    </tr>\n",
       "    <tr>\n",
       "      <th>6</th>\n",
       "      <td>5.1</td>\n",
       "      <td>3.4</td>\n",
       "      <td>1.5</td>\n",
       "      <td>0.2</td>\n",
       "      <td>0</td>\n",
       "    </tr>\n",
       "    <tr>\n",
       "      <th>7</th>\n",
       "      <td>5.6</td>\n",
       "      <td>2.7</td>\n",
       "      <td>4.2</td>\n",
       "      <td>1.3</td>\n",
       "      <td>1</td>\n",
       "    </tr>\n",
       "    <tr>\n",
       "      <th>8</th>\n",
       "      <td>5.9</td>\n",
       "      <td>3.2</td>\n",
       "      <td>4.8</td>\n",
       "      <td>1.8</td>\n",
       "      <td>1</td>\n",
       "    </tr>\n",
       "    <tr>\n",
       "      <th>9</th>\n",
       "      <td>5.7</td>\n",
       "      <td>3.0</td>\n",
       "      <td>4.2</td>\n",
       "      <td>1.2</td>\n",
       "      <td>1</td>\n",
       "    </tr>\n",
       "  </tbody>\n",
       "</table>\n",
       "</div>"
      ],
      "text/plain": [
       "   sepal length (cm)  sepal width (cm)  petal length (cm)  petal width (cm)  \\\n",
       "0                7.4               2.8                6.1               1.9   \n",
       "1                4.7               3.2                1.3               0.2   \n",
       "2                6.7               3.3                5.7               2.1   \n",
       "3                6.7               3.1                5.6               2.4   \n",
       "4                6.5               3.0                5.2               2.0   \n",
       "5                6.3               2.5                5.0               1.9   \n",
       "6                5.1               3.4                1.5               0.2   \n",
       "7                5.6               2.7                4.2               1.3   \n",
       "8                5.9               3.2                4.8               1.8   \n",
       "9                5.7               3.0                4.2               1.2   \n",
       "\n",
       "   class  \n",
       "0      2  \n",
       "1      0  \n",
       "2      2  \n",
       "3      2  \n",
       "4      2  \n",
       "5      2  \n",
       "6      0  \n",
       "7      1  \n",
       "8      1  \n",
       "9      1  "
      ]
     },
     "execution_count": 10,
     "metadata": {},
     "output_type": "execute_result"
    }
   ],
   "source": [
    "#mixing up the target class\n",
    "iris_data = df.sample(frac=1).reset_index(drop=True)\n",
    "iris_data.head(10)"
   ]
  },
  {
   "cell_type": "code",
   "execution_count": 11,
   "metadata": {},
   "outputs": [],
   "source": [
    "#using seaborn to plot all data fields\n",
    "import seaborn as sns"
   ]
  },
  {
   "cell_type": "code",
   "execution_count": 12,
   "metadata": {},
   "outputs": [
    {
     "data": {
      "text/plain": [
       "<seaborn.axisgrid.PairGrid at 0x20825f6ff60>"
      ]
     },
     "execution_count": 12,
     "metadata": {},
     "output_type": "execute_result"
    },
    {
     "data": {
      "image/png": "[encoded data removed]",
      "text/plain": [
       "<Figure size 900x900 with 30 Axes>"
      ]
     },
     "metadata": {
      "needs_background": "light"
     },
     "output_type": "display_data"
    }
   ],
   "source": [
    "sns.pairplot(iris_data)"
   ]
  },
  {
   "cell_type": "code",
   "execution_count": 14,
   "metadata": {},
   "outputs": [],
   "source": [
    "#splitting dataset into train and test sets\n",
    "from sklearn.model_selection import train_test_split\n",
    "X = iris_data.drop(\"class\", 1)\n",
    "y = iris_data[\"class\"]\n",
    "X_train, X_test, y_train, y_test = train_test_split(X, y)"
   ]
  },
  {
   "cell_type": "code",
   "execution_count": null,
   "metadata": {},
   "outputs": [],
   "source": []
  },
  {
   "cell_type": "code",
   "execution_count": 19,
   "metadata": {},
   "outputs": [
    {
     "name": "stdout",
     "output_type": "stream",
     "text": [
      "Best: 0.980357 using {'metric': 'euclidean', 'n_neighbors': 10, 'weights': 'distance'}\n",
      "0.957143 (0.071344) with: {'metric': 'euclidean', 'n_neighbors': 1, 'weights': 'uniform'}\n",
      "0.957143 (0.071344) with: {'metric': 'euclidean', 'n_neighbors': 1, 'weights': 'distance'}\n",
      "0.946429 (0.086381) with: {'metric': 'euclidean', 'n_neighbors': 2, 'weights': 'uniform'}\n",
      "0.957143 (0.071344) with: {'metric': 'euclidean', 'n_neighbors': 2, 'weights': 'distance'}\n",
      "0.957143 (0.079361) with: {'metric': 'euclidean', 'n_neighbors': 3, 'weights': 'uniform'}\n",
      "0.957143 (0.079361) with: {'metric': 'euclidean', 'n_neighbors': 3, 'weights': 'distance'}\n",
      "0.950000 (0.070565) with: {'metric': 'euclidean', 'n_neighbors': 4, 'weights': 'uniform'}\n",
      "0.964286 (0.069160) with: {'metric': 'euclidean', 'n_neighbors': 4, 'weights': 'distance'}\n",
      "0.957143 (0.076866) with: {'metric': 'euclidean', 'n_neighbors': 5, 'weights': 'uniform'}\n",
      "0.955357 (0.077140) with: {'metric': 'euclidean', 'n_neighbors': 5, 'weights': 'distance'}\n",
      "0.964286 (0.062372) with: {'metric': 'euclidean', 'n_neighbors': 6, 'weights': 'uniform'}\n",
      "0.975000 (0.056142) with: {'metric': 'euclidean', 'n_neighbors': 6, 'weights': 'distance'}\n",
      "0.957143 (0.076866) with: {'metric': 'euclidean', 'n_neighbors': 7, 'weights': 'uniform'}\n",
      "0.957143 (0.076705) with: {'metric': 'euclidean', 'n_neighbors': 7, 'weights': 'distance'}\n",
      "0.964286 (0.062372) with: {'metric': 'euclidean', 'n_neighbors': 8, 'weights': 'uniform'}\n",
      "0.973214 (0.056798) with: {'metric': 'euclidean', 'n_neighbors': 8, 'weights': 'distance'}\n",
      "0.967857 (0.060714) with: {'metric': 'euclidean', 'n_neighbors': 9, 'weights': 'uniform'}\n",
      "0.966071 (0.061373) with: {'metric': 'euclidean', 'n_neighbors': 9, 'weights': 'distance'}\n",
      "0.967857 (0.060714) with: {'metric': 'euclidean', 'n_neighbors': 10, 'weights': 'uniform'}\n",
      "0.980357 (0.051139) with: {'metric': 'euclidean', 'n_neighbors': 10, 'weights': 'distance'}\n",
      "0.973214 (0.066643) with: {'metric': 'euclidean', 'n_neighbors': 11, 'weights': 'uniform'}\n",
      "0.971429 (0.067386) with: {'metric': 'euclidean', 'n_neighbors': 11, 'weights': 'distance'}\n",
      "0.962500 (0.075459) with: {'metric': 'euclidean', 'n_neighbors': 12, 'weights': 'uniform'}\n",
      "0.973214 (0.066643) with: {'metric': 'euclidean', 'n_neighbors': 12, 'weights': 'distance'}\n",
      "0.964286 (0.074844) with: {'metric': 'euclidean', 'n_neighbors': 13, 'weights': 'uniform'}\n",
      "0.966071 (0.073292) with: {'metric': 'euclidean', 'n_neighbors': 13, 'weights': 'distance'}\n",
      "0.950000 (0.079490) with: {'metric': 'euclidean', 'n_neighbors': 14, 'weights': 'uniform'}\n",
      "0.967857 (0.072741) with: {'metric': 'euclidean', 'n_neighbors': 14, 'weights': 'distance'}\n",
      "0.955357 (0.077301) with: {'metric': 'euclidean', 'n_neighbors': 15, 'weights': 'uniform'}\n",
      "0.960714 (0.075701) with: {'metric': 'euclidean', 'n_neighbors': 15, 'weights': 'distance'}\n",
      "0.957143 (0.073905) with: {'metric': 'euclidean', 'n_neighbors': 16, 'weights': 'uniform'}\n",
      "0.955357 (0.077140) with: {'metric': 'euclidean', 'n_neighbors': 16, 'weights': 'distance'}\n",
      "0.953571 (0.077532) with: {'metric': 'euclidean', 'n_neighbors': 17, 'weights': 'uniform'}\n",
      "0.957143 (0.076705) with: {'metric': 'euclidean', 'n_neighbors': 17, 'weights': 'distance'}\n",
      "0.962500 (0.065235) with: {'metric': 'euclidean', 'n_neighbors': 18, 'weights': 'uniform'}\n",
      "0.950000 (0.078187) with: {'metric': 'euclidean', 'n_neighbors': 18, 'weights': 'distance'}\n",
      "0.955357 (0.077301) with: {'metric': 'euclidean', 'n_neighbors': 19, 'weights': 'uniform'}\n",
      "0.957143 (0.076705) with: {'metric': 'euclidean', 'n_neighbors': 19, 'weights': 'distance'}\n",
      "0.957143 (0.073905) with: {'metric': 'euclidean', 'n_neighbors': 20, 'weights': 'uniform'}\n",
      "0.955357 (0.077301) with: {'metric': 'euclidean', 'n_neighbors': 20, 'weights': 'distance'}\n",
      "0.955357 (0.077301) with: {'metric': 'euclidean', 'n_neighbors': 21, 'weights': 'uniform'}\n",
      "0.958929 (0.076388) with: {'metric': 'euclidean', 'n_neighbors': 21, 'weights': 'distance'}\n",
      "0.955357 (0.077301) with: {'metric': 'euclidean', 'n_neighbors': 22, 'weights': 'uniform'}\n",
      "0.962500 (0.072441) with: {'metric': 'euclidean', 'n_neighbors': 22, 'weights': 'distance'}\n",
      "0.960714 (0.076028) with: {'metric': 'euclidean', 'n_neighbors': 23, 'weights': 'uniform'}\n",
      "0.962500 (0.075459) with: {'metric': 'euclidean', 'n_neighbors': 23, 'weights': 'distance'}\n",
      "0.955357 (0.077301) with: {'metric': 'euclidean', 'n_neighbors': 24, 'weights': 'uniform'}\n",
      "0.971429 (0.067805) with: {'metric': 'euclidean', 'n_neighbors': 24, 'weights': 'distance'}\n",
      "0.955357 (0.076332) with: {'metric': 'manhattan', 'n_neighbors': 1, 'weights': 'uniform'}\n",
      "0.955357 (0.076332) with: {'metric': 'manhattan', 'n_neighbors': 1, 'weights': 'distance'}\n",
      "0.939286 (0.082813) with: {'metric': 'manhattan', 'n_neighbors': 2, 'weights': 'uniform'}\n",
      "0.955357 (0.076332) with: {'metric': 'manhattan', 'n_neighbors': 2, 'weights': 'distance'}\n",
      "0.957143 (0.081258) with: {'metric': 'manhattan', 'n_neighbors': 3, 'weights': 'uniform'}\n",
      "0.957143 (0.081258) with: {'metric': 'manhattan', 'n_neighbors': 3, 'weights': 'distance'}\n",
      "0.953571 (0.079473) with: {'metric': 'manhattan', 'n_neighbors': 4, 'weights': 'uniform'}\n",
      "0.958929 (0.077994) with: {'metric': 'manhattan', 'n_neighbors': 4, 'weights': 'distance'}\n",
      "0.955357 (0.084106) with: {'metric': 'manhattan', 'n_neighbors': 5, 'weights': 'uniform'}\n",
      "0.946429 (0.090859) with: {'metric': 'manhattan', 'n_neighbors': 5, 'weights': 'distance'}\n",
      "0.955357 (0.084106) with: {'metric': 'manhattan', 'n_neighbors': 6, 'weights': 'uniform'}\n",
      "0.955357 (0.081103) with: {'metric': 'manhattan', 'n_neighbors': 6, 'weights': 'distance'}\n",
      "0.957143 (0.076427) with: {'metric': 'manhattan', 'n_neighbors': 7, 'weights': 'uniform'}\n",
      "0.948214 (0.084139) with: {'metric': 'manhattan', 'n_neighbors': 7, 'weights': 'distance'}\n",
      "0.953571 (0.080558) with: {'metric': 'manhattan', 'n_neighbors': 8, 'weights': 'uniform'}\n",
      "0.957143 (0.073231) with: {'metric': 'manhattan', 'n_neighbors': 8, 'weights': 'distance'}\n",
      "0.960714 (0.075160) with: {'metric': 'manhattan', 'n_neighbors': 9, 'weights': 'uniform'}\n",
      "0.962500 (0.077200) with: {'metric': 'manhattan', 'n_neighbors': 9, 'weights': 'distance'}\n",
      "0.951786 (0.077881) with: {'metric': 'manhattan', 'n_neighbors': 10, 'weights': 'uniform'}\n",
      "0.966071 (0.069826) with: {'metric': 'manhattan', 'n_neighbors': 10, 'weights': 'distance'}\n",
      "0.960714 (0.072473) with: {'metric': 'manhattan', 'n_neighbors': 11, 'weights': 'uniform'}\n",
      "0.964286 (0.070881) with: {'metric': 'manhattan', 'n_neighbors': 11, 'weights': 'distance'}\n",
      "0.958929 (0.073408) with: {'metric': 'manhattan', 'n_neighbors': 12, 'weights': 'uniform'}\n",
      "0.964286 (0.070881) with: {'metric': 'manhattan', 'n_neighbors': 12, 'weights': 'distance'}\n",
      "0.966071 (0.070357) with: {'metric': 'manhattan', 'n_neighbors': 13, 'weights': 'uniform'}\n",
      "0.967857 (0.069068) with: {'metric': 'manhattan', 'n_neighbors': 13, 'weights': 'distance'}\n",
      "0.966071 (0.070357) with: {'metric': 'manhattan', 'n_neighbors': 14, 'weights': 'uniform'}\n",
      "0.971429 (0.067386) with: {'metric': 'manhattan', 'n_neighbors': 14, 'weights': 'distance'}\n",
      "0.973214 (0.066643) with: {'metric': 'manhattan', 'n_neighbors': 15, 'weights': 'uniform'}\n",
      "0.973214 (0.066643) with: {'metric': 'manhattan', 'n_neighbors': 15, 'weights': 'distance'}\n",
      "0.971429 (0.067386) with: {'metric': 'manhattan', 'n_neighbors': 16, 'weights': 'uniform'}\n",
      "0.973214 (0.066643) with: {'metric': 'manhattan', 'n_neighbors': 16, 'weights': 'distance'}\n",
      "0.975000 (0.065085) with: {'metric': 'manhattan', 'n_neighbors': 17, 'weights': 'uniform'}\n",
      "0.973214 (0.066643) with: {'metric': 'manhattan', 'n_neighbors': 17, 'weights': 'distance'}\n",
      "0.971429 (0.064813) with: {'metric': 'manhattan', 'n_neighbors': 18, 'weights': 'uniform'}\n",
      "0.971429 (0.067386) with: {'metric': 'manhattan', 'n_neighbors': 18, 'weights': 'distance'}\n",
      "0.975000 (0.065085) with: {'metric': 'manhattan', 'n_neighbors': 19, 'weights': 'uniform'}\n",
      "0.971429 (0.067386) with: {'metric': 'manhattan', 'n_neighbors': 19, 'weights': 'distance'}\n",
      "0.969643 (0.058530) with: {'metric': 'manhattan', 'n_neighbors': 20, 'weights': 'uniform'}\n",
      "0.967857 (0.072056) with: {'metric': 'manhattan', 'n_neighbors': 20, 'weights': 'distance'}\n",
      "0.960714 (0.071488) with: {'metric': 'manhattan', 'n_neighbors': 21, 'weights': 'uniform'}\n",
      "0.966071 (0.069648) with: {'metric': 'manhattan', 'n_neighbors': 21, 'weights': 'distance'}\n",
      "0.964286 (0.065341) with: {'metric': 'manhattan', 'n_neighbors': 22, 'weights': 'uniform'}\n",
      "0.958929 (0.075736) with: {'metric': 'manhattan', 'n_neighbors': 22, 'weights': 'distance'}\n",
      "0.958929 (0.078943) with: {'metric': 'manhattan', 'n_neighbors': 23, 'weights': 'uniform'}\n",
      "0.958929 (0.075899) with: {'metric': 'manhattan', 'n_neighbors': 23, 'weights': 'distance'}\n",
      "0.955357 (0.077507) with: {'metric': 'manhattan', 'n_neighbors': 24, 'weights': 'uniform'}\n",
      "0.958929 (0.078785) with: {'metric': 'manhattan', 'n_neighbors': 24, 'weights': 'distance'}\n",
      "0.957143 (0.071344) with: {'metric': 'minkowski', 'n_neighbors': 1, 'weights': 'uniform'}\n",
      "0.957143 (0.071344) with: {'metric': 'minkowski', 'n_neighbors': 1, 'weights': 'distance'}\n",
      "0.946429 (0.086381) with: {'metric': 'minkowski', 'n_neighbors': 2, 'weights': 'uniform'}\n",
      "0.957143 (0.071344) with: {'metric': 'minkowski', 'n_neighbors': 2, 'weights': 'distance'}\n",
      "0.957143 (0.079361) with: {'metric': 'minkowski', 'n_neighbors': 3, 'weights': 'uniform'}\n",
      "0.957143 (0.079361) with: {'metric': 'minkowski', 'n_neighbors': 3, 'weights': 'distance'}\n",
      "0.950000 (0.070565) with: {'metric': 'minkowski', 'n_neighbors': 4, 'weights': 'uniform'}\n",
      "0.964286 (0.069160) with: {'metric': 'minkowski', 'n_neighbors': 4, 'weights': 'distance'}\n",
      "0.957143 (0.076866) with: {'metric': 'minkowski', 'n_neighbors': 5, 'weights': 'uniform'}\n",
      "0.955357 (0.077140) with: {'metric': 'minkowski', 'n_neighbors': 5, 'weights': 'distance'}\n",
      "0.964286 (0.062372) with: {'metric': 'minkowski', 'n_neighbors': 6, 'weights': 'uniform'}\n",
      "0.975000 (0.056142) with: {'metric': 'minkowski', 'n_neighbors': 6, 'weights': 'distance'}\n",
      "0.957143 (0.076866) with: {'metric': 'minkowski', 'n_neighbors': 7, 'weights': 'uniform'}\n",
      "0.957143 (0.076705) with: {'metric': 'minkowski', 'n_neighbors': 7, 'weights': 'distance'}\n",
      "0.964286 (0.062372) with: {'metric': 'minkowski', 'n_neighbors': 8, 'weights': 'uniform'}\n",
      "0.973214 (0.056798) with: {'metric': 'minkowski', 'n_neighbors': 8, 'weights': 'distance'}\n",
      "0.967857 (0.060714) with: {'metric': 'minkowski', 'n_neighbors': 9, 'weights': 'uniform'}\n",
      "0.966071 (0.061373) with: {'metric': 'minkowski', 'n_neighbors': 9, 'weights': 'distance'}\n",
      "0.967857 (0.060714) with: {'metric': 'minkowski', 'n_neighbors': 10, 'weights': 'uniform'}\n",
      "0.980357 (0.051139) with: {'metric': 'minkowski', 'n_neighbors': 10, 'weights': 'distance'}\n",
      "0.973214 (0.066643) with: {'metric': 'minkowski', 'n_neighbors': 11, 'weights': 'uniform'}\n",
      "0.971429 (0.067386) with: {'metric': 'minkowski', 'n_neighbors': 11, 'weights': 'distance'}\n",
      "0.962500 (0.075459) with: {'metric': 'minkowski', 'n_neighbors': 12, 'weights': 'uniform'}\n",
      "0.973214 (0.066643) with: {'metric': 'minkowski', 'n_neighbors': 12, 'weights': 'distance'}\n",
      "0.964286 (0.074844) with: {'metric': 'minkowski', 'n_neighbors': 13, 'weights': 'uniform'}\n",
      "0.966071 (0.073292) with: {'metric': 'minkowski', 'n_neighbors': 13, 'weights': 'distance'}\n",
      "0.950000 (0.079490) with: {'metric': 'minkowski', 'n_neighbors': 14, 'weights': 'uniform'}\n",
      "0.967857 (0.072741) with: {'metric': 'minkowski', 'n_neighbors': 14, 'weights': 'distance'}\n",
      "0.955357 (0.077301) with: {'metric': 'minkowski', 'n_neighbors': 15, 'weights': 'uniform'}\n",
      "0.960714 (0.075701) with: {'metric': 'minkowski', 'n_neighbors': 15, 'weights': 'distance'}\n",
      "0.957143 (0.073905) with: {'metric': 'minkowski', 'n_neighbors': 16, 'weights': 'uniform'}\n",
      "0.955357 (0.077140) with: {'metric': 'minkowski', 'n_neighbors': 16, 'weights': 'distance'}\n",
      "0.953571 (0.077532) with: {'metric': 'minkowski', 'n_neighbors': 17, 'weights': 'uniform'}\n",
      "0.957143 (0.076705) with: {'metric': 'minkowski', 'n_neighbors': 17, 'weights': 'distance'}\n",
      "0.962500 (0.065235) with: {'metric': 'minkowski', 'n_neighbors': 18, 'weights': 'uniform'}\n",
      "0.950000 (0.078187) with: {'metric': 'minkowski', 'n_neighbors': 18, 'weights': 'distance'}\n",
      "0.955357 (0.077301) with: {'metric': 'minkowski', 'n_neighbors': 19, 'weights': 'uniform'}\n",
      "0.957143 (0.076705) with: {'metric': 'minkowski', 'n_neighbors': 19, 'weights': 'distance'}\n",
      "0.957143 (0.073905) with: {'metric': 'minkowski', 'n_neighbors': 20, 'weights': 'uniform'}\n",
      "0.955357 (0.077301) with: {'metric': 'minkowski', 'n_neighbors': 20, 'weights': 'distance'}\n",
      "0.955357 (0.077301) with: {'metric': 'minkowski', 'n_neighbors': 21, 'weights': 'uniform'}\n",
      "0.958929 (0.076388) with: {'metric': 'minkowski', 'n_neighbors': 21, 'weights': 'distance'}\n",
      "0.955357 (0.077301) with: {'metric': 'minkowski', 'n_neighbors': 22, 'weights': 'uniform'}\n",
      "0.962500 (0.072441) with: {'metric': 'minkowski', 'n_neighbors': 22, 'weights': 'distance'}\n",
      "0.960714 (0.076028) with: {'metric': 'minkowski', 'n_neighbors': 23, 'weights': 'uniform'}\n",
      "0.962500 (0.075459) with: {'metric': 'minkowski', 'n_neighbors': 23, 'weights': 'distance'}\n",
      "0.955357 (0.077301) with: {'metric': 'minkowski', 'n_neighbors': 24, 'weights': 'uniform'}\n",
      "0.971429 (0.067805) with: {'metric': 'minkowski', 'n_neighbors': 24, 'weights': 'distance'}\n"
     ]
    },
    {
     "name": "stderr",
     "output_type": "stream",
     "text": [
      "c:\\users\\ek\\gis\\venv\\lib\\site-packages\\sklearn\\model_selection\\_search.py:813: DeprecationWarning: The default of the `iid` parameter will change from True to False in version 0.22 and will be removed in 0.24. This will change numeric results when test-set sizes are unequal.\n",
      "  DeprecationWarning)\n"
     ]
    }
   ],
   "source": [
    "#grid searching key hyperparameters for KNeighborsClassifier\n",
    "\n",
    "from sklearn.model_selection import RepeatedStratifiedKFold\n",
    "from sklearn.model_selection import GridSearchCV\n",
    "from sklearn.neighbors import KNeighborsClassifier\n",
    "\n",
    "# define models and parameters\n",
    "model = KNeighborsClassifier()\n",
    "n_neighbors = range(1, 25, 1)\n",
    "weights = ['uniform', 'distance']\n",
    "metric = ['euclidean', 'manhattan', 'minkowski']\n",
    "\n",
    "# define grid search\n",
    "grid = dict(n_neighbors=n_neighbors,weights=weights,metric=metric)\n",
    "\n",
    "cv = RepeatedStratifiedKFold(n_splits=15, n_repeats=5, random_state=1)\n",
    "\n",
    "grid_search = GridSearchCV(estimator=model, \n",
    "                           param_grid=grid, \n",
    "                           cv=cv, \n",
    "                           scoring='accuracy',\n",
    "                           error_score=0)\n",
    "\n",
    "grid_result = grid_search.fit(X_train, y_train)\n",
    "\n",
    "# summarize results\n",
    "print(\"Best: %f using %s\" % (grid_result.best_score_, grid_result.best_params_))\n",
    "\n",
    "means = grid_result.cv_results_['mean_test_score']\n",
    "\n",
    "stds = grid_result.cv_results_['std_test_score']\n",
    "\n",
    "params = grid_result.cv_results_['params']\n",
    "\n",
    "for mean, stdev, param in zip(means, stds, params):\n",
    "    print(\"%f (%f) with: %r\" % (mean, stdev, param))"
   ]
  },
  {
   "cell_type": "code",
   "execution_count": 17,
   "metadata": {},
   "outputs": [
    {
     "data": {
      "text/plain": [
       "0.9732142857142857"
      ]
     },
     "execution_count": 17,
     "metadata": {},
     "output_type": "execute_result"
    }
   ],
   "source": [
    "#model evaluation\n",
    "knn = grid_result.best_estimator_\n",
    "knn.score(X_train, y_train)"
   ]
  },
  {
   "cell_type": "code",
   "execution_count": 18,
   "metadata": {},
   "outputs": [
    {
     "data": {
      "text/plain": [
       "0.8947368421052632"
      ]
     },
     "execution_count": 18,
     "metadata": {},
     "output_type": "execute_result"
    }
   ],
   "source": [
    "knn.score(X_test, y_test)"
   ]
  },
  {
   "cell_type": "code",
   "execution_count": 23,
   "metadata": {},
   "outputs": [
    {
     "name": "stdout",
     "output_type": "stream",
     "text": [
      "Virginica\n"
     ]
    }
   ],
   "source": [
    "flower = knn.predict([[2.3,4.5,5.6,3.9]])\n",
    "print(\"Setosa\" if flower[0]==0 else \"Versicolor\" if flower[0]==1 else \"Virginica\")"
   ]
  },
  {
   "cell_type": "code",
   "execution_count": 25,
   "metadata": {},
   "outputs": [
    {
     "data": {
      "text/plain": [
       "['knn_model.pkl']"
      ]
     },
     "execution_count": 25,
     "metadata": {},
     "output_type": "execute_result"
    }
   ],
   "source": [
    "#save and load model\n",
    "import joblib\n",
    "joblib.dump(knn, 'knn_model.pkl')"
   ]
  },
  {
   "cell_type": "code",
   "execution_count": 26,
   "metadata": {},
   "outputs": [],
   "source": [
    "model = joblib.load('knn_model.pkl')"
   ]
  },
  {
   "cell_type": "code",
   "execution_count": 30,
   "metadata": {},
   "outputs": [
    {
     "name": "stdout",
     "output_type": "stream",
     "text": [
      "Versicolor\n"
     ]
    }
   ],
   "source": [
    "print(\"Setosa\" if model.predict([[1.2,2.2,3.2,4.2]])[0]==0 else \"Versicolor\" if model.predict([[1.2,2.2,3.2,4.2]])[0]==1 else \"Virginica\")"
   ]
  },
  {
   "cell_type": "code",
   "execution_count": null,
   "metadata": {},
   "outputs": [],
   "source": []
  },
  {
   "cell_type": "code",
   "execution_count": null,
   "metadata": {},
   "outputs": [],
   "source": []
  },
  {
   "cell_type": "code",
   "execution_count": null,
   "metadata": {},
   "outputs": [],
   "source": []
  },
  {
   "cell_type": "code",
   "execution_count": null,
   "metadata": {},
   "outputs": [],
   "source": []
  },
  {
   "cell_type": "code",
   "execution_count": null,
   "metadata": {},
   "outputs": [],
   "source": []
  },
  {
   "cell_type": "code",
   "execution_count": null,
   "metadata": {},
   "outputs": [],
   "source": []
  },
  {
   "cell_type": "code",
   "execution_count": null,
   "metadata": {},
   "outputs": [],
   "source": []
  },
  {
   "cell_type": "code",
   "execution_count": null,
   "metadata": {},
   "outputs": [],
   "source": []
  },
  {
   "cell_type": "code",
   "execution_count": null,
   "metadata": {},
   "outputs": [],
   "source": []
  },
  {
   "cell_type": "code",
   "execution_count": null,
   "metadata": {},
   "outputs": [],
   "source": []
  },
  {
   "cell_type": "code",
   "execution_count": null,
   "metadata": {},
   "outputs": [],
   "source": []
  },
  {
   "cell_type": "code",
   "execution_count": null,
   "metadata": {},
   "outputs": [],
   "source": []
  },
  {
   "cell_type": "code",
   "execution_count": null,
   "metadata": {},
   "outputs": [],
   "source": []
  },
  {
   "cell_type": "code",
   "execution_count": null,
   "metadata": {},
   "outputs": [],
   "source": []
  },
  {
   "cell_type": "code",
   "execution_count": null,
   "metadata": {},
   "outputs": [],
   "source": []
  },
  {
   "cell_type": "code",
   "execution_count": null,
   "metadata": {},
   "outputs": [],
   "source": []
  },
  {
   "cell_type": "code",
   "execution_count": null,
   "metadata": {},
   "outputs": [],
   "source": []
  }
 ],
 "metadata": {
  "kernelspec": {
   "display_name": "Python 3",
   "language": "python",
   "name": "python3"
  },
  "language_info": {
   "codemirror_mode": {
    "name": "ipython",
    "version": 3
   },
   "file_extension": ".py",
   "mimetype": "text/x-python",
   "name": "python",
   "nbconvert_exporter": "python",
   "pygments_lexer": "ipython3",
   "version": "3.7.2"
  }
 },
 "nbformat": 4,
 "nbformat_minor": 2
}
